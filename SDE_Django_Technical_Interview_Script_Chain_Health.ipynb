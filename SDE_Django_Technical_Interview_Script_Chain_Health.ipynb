{
  "nbformat": 4,
  "nbformat_minor": 0,
  "metadata": {
    "colab": {
      "provenance": []
    },
    "kernelspec": {
      "name": "python3",
      "display_name": "Python 3"
    },
    "language_info": {
      "name": "python"
    }
  },
  "cells": [
    {
      "cell_type": "markdown",
      "source": [
        "**Question-1**. What is the difference between select_related and prefetch_related? Provide an explanation and illustrate an example via code."
      ],
      "metadata": {
        "id": "WLDUNFzvtvxX"
      }
    },
    {
      "cell_type": "markdown",
      "source": [
        "**select_related**:\n",
        "\n",
        "This query method is used when the relationship is one-to-one has a foreign key.\n",
        "\n",
        "Using this method we can reduce the number of database queries, by performing the SQL join.\n",
        "\n",
        "Usage of this method makes the query more complicated but retrieve the related objects in a single query by reducing the number of database hits."
      ],
      "metadata": {
        "id": "yo9_RovEkJHy"
      }
    },
    {
      "cell_type": "markdown",
      "source": [
        "**prefetch_related:**\n",
        "\n",
        "This query method is used when the relationships are many-to-many and reverse foreign key relationships.\n",
        "\n",
        "This method will fetech the related objects using seperate database queries and joins them in python.\n",
        "\n",
        "This method is useful when there is a large sets of related objects."
      ],
      "metadata": {
        "id": "NK-oED-cnNXA"
      }
    },
    {
      "cell_type": "code",
      "execution_count": null,
      "metadata": {
        "colab": {
          "base_uri": "https://localhost:8080/",
          "height": 383
        },
        "collapsed": true,
        "id": "oiTz8g5dj9pn",
        "outputId": "fb9f54e1-246e-4f80-c762-07d880882560"
      },
      "outputs": [
        {
          "output_type": "error",
          "ename": "ModuleNotFoundError",
          "evalue": "No module named 'django'",
          "traceback": [
            "\u001b[0;31m---------------------------------------------------------------------------\u001b[0m",
            "\u001b[0;31mModuleNotFoundError\u001b[0m                       Traceback (most recent call last)",
            "\u001b[0;32m<ipython-input-1-08c79af721ce>\u001b[0m in \u001b[0;36m<cell line: 2>\u001b[0;34m()\u001b[0m\n\u001b[1;32m      1\u001b[0m \u001b[0;31m# Impporting models from django database\u001b[0m\u001b[0;34m\u001b[0m\u001b[0;34m\u001b[0m\u001b[0m\n\u001b[0;32m----> 2\u001b[0;31m \u001b[0;32mfrom\u001b[0m \u001b[0mdjango\u001b[0m\u001b[0;34m.\u001b[0m\u001b[0mdb\u001b[0m \u001b[0;32mimport\u001b[0m \u001b[0mmodels\u001b[0m\u001b[0;34m\u001b[0m\u001b[0;34m\u001b[0m\u001b[0m\n\u001b[0m\u001b[1;32m      3\u001b[0m \u001b[0;34m\u001b[0m\u001b[0m\n\u001b[1;32m      4\u001b[0m \u001b[0;31m# Defining the Author model\u001b[0m\u001b[0;34m\u001b[0m\u001b[0;34m\u001b[0m\u001b[0m\n\u001b[1;32m      5\u001b[0m \u001b[0;32mclass\u001b[0m \u001b[0mAuthor\u001b[0m\u001b[0;34m(\u001b[0m\u001b[0mmodels\u001b[0m\u001b[0;34m.\u001b[0m\u001b[0mModel\u001b[0m\u001b[0;34m)\u001b[0m\u001b[0;34m:\u001b[0m\u001b[0;34m\u001b[0m\u001b[0;34m\u001b[0m\u001b[0m\n",
            "\u001b[0;31mModuleNotFoundError\u001b[0m: No module named 'django'",
            "",
            "\u001b[0;31m---------------------------------------------------------------------------\u001b[0;32m\nNOTE: If your import is failing due to a missing package, you can\nmanually install dependencies using either !pip or !apt.\n\nTo view examples of installing some common dependencies, click the\n\"Open Examples\" button below.\n\u001b[0;31m---------------------------------------------------------------------------\u001b[0m\n"
          ],
          "errorDetails": {
            "actions": [
              {
                "action": "open_url",
                "actionText": "Open Examples",
                "url": "/notebooks/snippets/importing_libraries.ipynb"
              }
            ]
          }
        }
      ],
      "source": [
        "# Impporting models from django database\n",
        "from django.db import models\n",
        "\n",
        "# Defining the Author model\n",
        "class Author(models.Model):\n",
        "    name = models.CharField(max_length=100)\n",
        "\n",
        "# Defining the Book model and adding this as a foreign key to the Author model\n",
        "class Book(models.Model):\n",
        "    title = models.CharField(max_length=100)\n",
        "    author = models.ForeignKey(Author, related_name='books', on_delete=models.CASCADE)\n",
        "\n",
        "\n",
        "from django.shortcuts import render\n",
        "from .models import Author, Book\n",
        "\n",
        "# Using select_related to fetch books along with their authors in a single query\n",
        "def books_with_authors(request):\n",
        "    books = Book.objects.select_related('author').all()\n",
        "    return render(request, 'books.html', {'books': books})\n",
        "\n",
        "# Using prefetch_related to fetch authors and their books in seperate queries\n",
        "def authors_with_books(request):\n",
        "    authors = Author.objects.prefetch_related('books').all()\n",
        "    return render(request, 'authors.html', {'authors': authors})\n"
      ]
    },
    {
      "cell_type": "markdown",
      "source": [
        "**Question 2:**\n",
        "\n",
        "Explain Q objects in Django ORM and illustrate an example via code?"
      ],
      "metadata": {
        "id": "h5mPHH-2uAsR"
      }
    },
    {
      "cell_type": "markdown",
      "source": [
        "**Q objects:**\n",
        "\n",
        "Using Q objects we can create complex queries in Django's ORM using the logical operators like AND, OR, and NOT for combining the multiple conditions or filters"
      ],
      "metadata": {
        "id": "oKQ1vSGquMF0"
      }
    },
    {
      "cell_type": "code",
      "source": [
        "from django.db import models\n",
        "\n",
        "# defining the product model with name, price and stock parameters\n",
        "class Product(models.Model):\n",
        "    name = models.CharField(max_length=100)\n",
        "    price = models.DecimalField(max_digits=10, decimal_places=2)\n",
        "    stock = models.IntegerField()\n",
        "\n",
        "from django.db.models import Q\n",
        "from django.shortcuts import render\n",
        "from .models import Product\n",
        "\n",
        "def filter_products(request):\n",
        "    # filters the products which has 'Laptop' in its name and also price > 50\n",
        "    condition1 = Q(name__icontains='Laptop') & Q(price__gt=50)\n",
        "    # selects all the products which has 'phone' word in its name or products which has the price > 100\n",
        "    condition2 = Q(name__icontains='Phone') | Q(stock__gt=100)\n",
        "    # selects the products which donot contain 'Tablet' in its name\n",
        "    condition3 = ~Q(name__icontains='Tablet')\n",
        "    # mixed condition first selects the products which has 'laptop' word in its name and price>50 OR\n",
        "    # the products which donot have 'tablet' in its name AND from these products it finalise the\n",
        "    # products which has the price > 200\n",
        "    condition4 = (condition1 | condition3) & Q(price__lt=200)\n",
        "    products = Product.objects.filter(condition4)\n",
        "    return render(request, 'products.html', {'products': products})\n"
      ],
      "metadata": {
        "id": "60sWn2J9uDui"
      },
      "execution_count": null,
      "outputs": []
    },
    {
      "cell_type": "markdown",
      "source": [
        "**Question 3:**\n",
        "\n",
        "How would you set up your app using Django on AWS EC2 while also keeping your cost to a minimum? Walk us through how you would deploy the application and what steps would you need to do in order to deploy successfully. Give an example."
      ],
      "metadata": {
        "id": "jv-Z6wQB1O2Q"
      }
    },
    {
      "cell_type": "markdown",
      "source": [
        "**Steps to set up and deploy a Gjango application on AWS EC@ while keeping the cost minimum**\n",
        "\n",
        "**1.Launch an EC2 Instance with Autoscaling:**\n",
        "\n",
        "-> By creating a Auto Scaling Group and setting up the scaling policies the server will adjust the number of instances according to the metrics such as CPU utilization, etc.\n",
        "\n",
        "**2. Use Spot Instances**\n",
        "\n",
        "-> Spot instances are cheaper than on-demand instances, so consider using spot instances for non-critical, fault tolerant instances.\n",
        "\n",
        "**3. Server setup **\n",
        "\n",
        "-> Do the necessary pakage installations and updates\n",
        "\n",
        "**4. Clone your Project**\n",
        "\n",
        "-> Get the Django project code on the server.\n",
        "\n",
        "**5. Install Dependencies**\n",
        "\n",
        "**6. Configure PostgreSQL**\n",
        "\n",
        "-> create a database and user. Update the settings.py according to the database configurations.\n",
        "\n",
        "**7. Migrate the Database and collect static files**\n",
        "\n",
        "**8. Configure Nginx**\n",
        "\n",
        "-> Use Nginx as a reverse proxy to serve the application.\n",
        "\n",
        "**9. Use S3 for static and Media Files**\n",
        "\n",
        "-> Offload static and media files to S3 to reduce EC2 instance load\n",
        "\n",
        "**10. Monitor and optimize the cost**\n",
        "\n",
        "-> regularly monitor the usage and adjust the thresholds.\n"
      ],
      "metadata": {
        "id": "IfbfgS3n1YUB"
      }
    }
  ]
}